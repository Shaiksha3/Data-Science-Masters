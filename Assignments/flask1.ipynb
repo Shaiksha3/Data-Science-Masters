{
 "cells": [
  {
   "cell_type": "markdown",
   "id": "35c886d5-bb0b-49e9-905b-2db90a8e7de7",
   "metadata": {},
   "source": [
    "Q1. Q1. What is Flask Framework? What are the advantages of Flask Framework?\n",
    "\n",
    "\n",
    "Flask is a lightweight web framework for Python that is designed to make it easy to build web applications quickly and with minimal overhead\n",
    "\n",
    "Advantages of Flask:\n",
    "\n",
    "Lightweight and flexible\n",
    "\n",
    "Simple and easy to learn\n",
    "\n",
    "Modular design\n",
    "\n",
    "Template engine\n",
    "\n",
    "Large ecosystem\n",
    "\n",
    "Suitable for small and large projects"
   ]
  },
  {
   "cell_type": "markdown",
   "id": "ddb328d3-624c-4547-9a3f-5423d8cdea94",
   "metadata": {},
   "source": [
    "# Q2. Create a simple Flask application to display ‘Hello World!!’. Attach the screenshot of the output in\n",
    "# Jupyter Notebook.\n",
    "\n",
    "\n",
    "\n"
   ]
  }
 ],
 "metadata": {
  "kernelspec": {
   "display_name": "Python 3 (ipykernel)",
   "language": "python",
   "name": "python3"
  },
  "language_info": {
   "codemirror_mode": {
    "name": "ipython",
    "version": 3
   },
   "file_extension": ".py",
   "mimetype": "text/x-python",
   "name": "python",
   "nbconvert_exporter": "python",
   "pygments_lexer": "ipython3",
   "version": "3.10.8"
  }
 },
 "nbformat": 4,
 "nbformat_minor": 5
}
